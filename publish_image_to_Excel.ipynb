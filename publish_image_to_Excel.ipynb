{
 "cells": [
  {
   "cell_type": "code",
   "execution_count": 155,
   "id": "4a91dd92-e0d3-4880-bea4-0aa918203975",
   "metadata": {},
   "outputs": [],
   "source": [
    "import os\n",
    "import glob\n",
    "import imghdr\n",
    "import openpyxl\n",
    "import cv2\n",
    "from PIL import Image"
   ]
  },
  {
   "cell_type": "code",
   "execution_count": 40,
   "id": "c7b702e2-dd28-48e2-8f74-e619e3bd15cd",
   "metadata": {},
   "outputs": [],
   "source": [
    "\n",
    "# 定数設定\n",
    "INPUT_IMG_DIR = '.\\\\images\\\\' # 貼り付ける画像を置いておくルートディレクトリ\n",
    "SHEET_TITLE = '画像貼り付け' # シート名の設定\n",
    "RESULT_FILE_NAME = '.\\\\result.xlsx' # 結果を保存するファイル名\n",
    "\n",
    "# 変数\n",
    "max_height = ['3'] # 各行の画像の高さの最大値を保持"
   ]
  },
  {
   "cell_type": "code",
   "execution_count": 138,
   "id": "21471c7f-fd8d-4974-82e8-65005980dd18",
   "metadata": {},
   "outputs": [],
   "source": [
    "\n",
    "'''\n",
    "１．列番号から 1 引いた数を 26 で割り、結果の整数値を変数 i に代入します。\n",
    "\n",
    "２．列番号から i に 26 を掛けた数を引き、結果の整数値を変数 j に代入します。\n",
    "\n",
    "３．整数値を対応する英文字に変換します。i および j は、それぞれ 0 ～ 9 および 1 ～ 26 の値になります。\n",
    "'''\n",
    "def toAlpha2(num):\n",
    "    i = int((num-1)/26)\n",
    "    j = int(num-(i*26))\n",
    "    Alpha = ''\n",
    "    for z in i,j:\n",
    "        if z != 0:\n",
    "            Alpha += chr(z+64)\n",
    "    return Alpha"
   ]
  },
  {
   "cell_type": "code",
   "execution_count": 41,
   "id": "b93e3b43-4b41-45ca-a7f6-2d1e80edd52f",
   "metadata": {},
   "outputs": [],
   "source": [
    "def get_file_names(set_dir_name):\n",
    "    \"\"\"\n",
    "    ディレクトリ内のファイル名取得（ファイル名のみの一覧を取得）\n",
    "    \"\"\"\n",
    "    file_names = os.listdir(set_dir_name)\n",
    "    temp_full_file_names = [os.path.join(set_dir_name, file_name) for file_name in file_names if os.path.isfile(os.path.join(set_dir_name, file_name))] # ファイルかどうかを判定\n",
    "    return temp_full_file_names"
   ]
  },
  {
   "cell_type": "code",
   "execution_count": 164,
   "id": "5f24eebf-2cd1-4080-bbc6-2ade49f866b5",
   "metadata": {},
   "outputs": [],
   "source": [
    "def attach_img(target_full_file_names, set_column_idx, set_dir_name):\n",
    "    \"\"\"\n",
    "    画像を呼び出して、Excelに貼り付け\n",
    "    \"\"\"\n",
    "    set_row_idx = 1\n",
    "    column_letter = toAlpha2(ws.cell(row=set_row_idx, column=set_column_idx).column) # セルの行列番号から、そのセルの列番号の文字列を取得\n",
    "    print('column letter:',column_letter)\n",
    "    ws.cell(row=1, column=set_column_idx).value = set_dir_name # 各列の1行目に、貼り付ける画像があるディレクトリ名を入力\n",
    "    max_width = 0 # 画像の幅の最大値を保持するための変数\n",
    "    target_full_file_names.sort() # ファイル名でソート\n",
    "    for target_file in target_full_file_names:\n",
    "        if imghdr.what(target_file) != None: # 画像ファイルかどうかの判定\n",
    "            \n",
    "            img = openpyxl.drawing.image.Image(target_file)\n",
    "            print('[' + str(column_letter) + '][' + str(set_row_idx) + ']' + target_file + 'を貼り付け')\n",
    " \n",
    "            # 画像のサイズを取得して、セルの大きさを合わせる（画像同士が重ならないようにするため）\n",
    "            size_img = cv2.imread(target_file)\n",
    "            height, width = size_img.shape[:2]\n",
    "            if max_width < width:\n",
    "                max_width = width\n",
    "            if not max_height[set_row_idx-1:set_row_idx]: # 配列「max_height」において、「set_row_idx」番目の要素が存在しなければ、挿入\n",
    "                max_height.insert(set_row_idx-1, height)\n",
    "            if int(max_height[set_row_idx-1]) < height:\n",
    "                max_height[set_row_idx-1] = str(height)\n",
    "            ws.row_dimensions[set_row_idx+1].height = int(max_height[set_row_idx-1]) * 0.75\n",
    "            ws.column_dimensions[str(column_letter)].width = int(max_width) * 0.13\n",
    "            cell_address = ws.cell(row=set_row_idx, column=set_column_idx).coordinate # セルの行列番号から、そのセルの番地を取得\n",
    "            img.anchor = cell_address\n",
    "            ws.add_image(img) # シートに画像貼り付け\n",
    " \n",
    "        set_row_idx += 1"
   ]
  },
  {
   "cell_type": "code",
   "execution_count": 165,
   "id": "1fcc951b-4fda-4f02-8298-89569137d0dc",
   "metadata": {},
   "outputs": [
    {
     "name": "stdout",
     "output_type": "stream",
     "text": [
      "column letter: A\n",
      "column letter: B\n",
      "[B][1].\\images\\bing_images\\kouro.pngを貼り付け\n",
      "[B][2].\\images\\bing_images\\screen.pngを貼り付け\n",
      "column letter: C\n"
     ]
    }
   ],
   "source": [
    "# ワークブック設定\n",
    "wb = openpyxl.Workbook()\n",
    "ws = wb.worksheets[0] # 1番目のシートを編集対象にする\n",
    "ws.title = SHEET_TITLE # 1番目のシートに名前を設定\n",
    "\n",
    "# 貼り付ける画像を置いておくルートディレクトリ内のディレクトリ名を再帰的に取得\n",
    "dirs = glob.glob(os.path.join(INPUT_IMG_DIR, '**' + os.sep), recursive=True)\n",
    "\n",
    "column_idx = 1\n",
    "# 各ディレクトリについて操作\n",
    "for dir_name in dirs:\n",
    "    f_names = get_file_names(dir_name) # ファイル名取得\n",
    "    attach_img(f_names, column_idx, dir_name) # 画像貼り付け設定\n",
    "    column_idx += 1 # 次の列へ・・・\n",
    "\n",
    "# ファイルへの書き込み\n",
    "wb.save(RESULT_FILE_NAME)"
   ]
  },
  {
   "cell_type": "code",
   "execution_count": 4,
   "id": "bfafbd8f-d283-4160-ad2e-a6d096b085e2",
   "metadata": {},
   "outputs": [],
   "source": [
    "#Excelファイル読込\n",
    "workbook = openpyxl.load_workbook(name)\n",
    "sheet = workbook.active\n",
    "\n",
    "#画像を選択\n",
    "img_to_excel = openpyxl.drawing.image.Image(img_dir)\n",
    "\n",
    "#指定の位置に画像を添付\n",
    "sheet.add_image(img_to_excel, 'B3')\n",
    "\n",
    "#保存\n",
    "workbook.save(name)"
   ]
  },
  {
   "cell_type": "code",
   "execution_count": null,
   "id": "3c1b697c-3b64-460d-8eef-4ff07b4f5127",
   "metadata": {},
   "outputs": [],
   "source": []
  }
 ],
 "metadata": {
  "kernelspec": {
   "display_name": "Python 3",
   "language": "python",
   "name": "python3"
  },
  "language_info": {
   "codemirror_mode": {
    "name": "ipython",
    "version": 3
   },
   "file_extension": ".py",
   "mimetype": "text/x-python",
   "name": "python",
   "nbconvert_exporter": "python",
   "pygments_lexer": "ipython3",
   "version": "3.9.1"
  }
 },
 "nbformat": 4,
 "nbformat_minor": 5
}
