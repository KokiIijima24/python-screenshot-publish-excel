{
 "cells": [
  {
   "cell_type": "code",
   "execution_count": 2,
   "id": "ba7be5d7-f56c-48a8-9f47-b70790e934df",
   "metadata": {},
   "outputs": [
    {
     "name": "stdout",
     "output_type": "stream",
     "text": [
      "オリジナル画像の幅: 1898 高さ:818\n",
      "リサイズした画像の幅: 474 高さ:204\n"
     ]
    }
   ],
   "source": [
    "from PIL import Image\n",
    "\n",
    "#カレントディレクトリの画像指定\n",
    "img_dir = 'images/o365_images/厚労省.png'\n",
    "\n",
    "#画像オブジェクト作成\n",
    "img = Image.open(img_dir)\n",
    "\n",
    "#オリジナル画像の幅・高さ確認\n",
    "width, height = img.size\n",
    "print(\"オリジナル画像の\"+\"幅: \"+str(width),\"高さ:\"+str(height))\n",
    "\n",
    "#リサイズ\n",
    "w_shrink = 4  #縮小幅の割合指定\n",
    "h_shrink = 4  #縮小高さの割合指定\n",
    "img_resize = img.resize((int(width/w_shrink),int(height/h_shrink)))\n",
    "\n",
    "#リサイズした画像の幅・高さ確認\n",
    "width, height = img_resize.size\n",
    "print(\"リサイズした画像の\"+\"幅: \"+str(width),\"高さ:\"+str(height))\n",
    "\n",
    "#リサイズした画像を上書き保存\n",
    "img_resize.save(img_dir)"
   ]
  },
  {
   "cell_type": "code",
   "execution_count": 3,
   "id": "208a6ec8-32de-4b64-a2a5-94c34994a5ba",
   "metadata": {},
   "outputs": [],
   "source": [
    "import openpyxl\n",
    "\n",
    "#Excelファイル名\n",
    "name = \"画像貼り付け.xlsx\"\n",
    "\n",
    "#Excelファイル作成\n",
    "workbook = openpyxl.Workbook(name)\n",
    "\n",
    "#保存\n",
    "workbook.save(name)"
   ]
  },
  {
   "cell_type": "code",
   "execution_count": 4,
   "id": "bfafbd8f-d283-4160-ad2e-a6d096b085e2",
   "metadata": {},
   "outputs": [],
   "source": [
    "#Excelファイル読込\n",
    "workbook = openpyxl.load_workbook(name)\n",
    "sheet = workbook.active\n",
    "\n",
    "#画像を選択\n",
    "img_to_excel = openpyxl.drawing.image.Image(img_dir)\n",
    "\n",
    "#指定の位置に画像を添付\n",
    "sheet.add_image(img_to_excel, 'B3')\n",
    "\n",
    "#保存\n",
    "workbook.save(name)"
   ]
  },
  {
   "cell_type": "code",
   "execution_count": null,
   "id": "3c1b697c-3b64-460d-8eef-4ff07b4f5127",
   "metadata": {},
   "outputs": [],
   "source": []
  }
 ],
 "metadata": {
  "kernelspec": {
   "display_name": "Python 3",
   "language": "python",
   "name": "python3"
  },
  "language_info": {
   "codemirror_mode": {
    "name": "ipython",
    "version": 3
   },
   "file_extension": ".py",
   "mimetype": "text/x-python",
   "name": "python",
   "nbconvert_exporter": "python",
   "pygments_lexer": "ipython3",
   "version": "3.9.1"
  }
 },
 "nbformat": 4,
 "nbformat_minor": 5
}
