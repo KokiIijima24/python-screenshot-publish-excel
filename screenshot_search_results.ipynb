{
 "cells": [
  {
   "cell_type": "code",
   "execution_count": 1,
   "id": "53e9aed9-2e29-4554-bd51-1453ec5eec53",
   "metadata": {},
   "outputs": [],
   "source": [
    "from selenium import webdriver\n",
    "from selenium.webdriver.support.ui import WebDriverWait\n",
    "from selenium.webdriver.common.keys import Keys\n",
    "from selenium.webdriver.common.by import By\n",
    "\n",
    "import os\n",
    "import sys\n",
    "from enum import Enum"
   ]
  },
  {
   "cell_type": "code",
   "execution_count": 2,
   "id": "41c75cfe-c917-4ab6-b49f-233bd142ab2e",
   "metadata": {},
   "outputs": [],
   "source": [
    "class SelectorType(Enum):\n",
    "    Id = 1\n",
    "    Class = 2\n",
    "    Name= 3"
   ]
  },
  {
   "cell_type": "code",
   "execution_count": 3,
   "id": "4634836a-051f-487f-9428-48ae29829c28",
   "metadata": {},
   "outputs": [],
   "source": [
    "import time\n",
    "# 特定のテキストボックスにデータを入力する（name指定）入力後にEnterを押す\n",
    "def move_textbox_by_name(driver, selector, value):\n",
    "    return input_textbox_and_post(driver, selector, value, SelectorType.Name)\n",
    "\n",
    "# 特定のテキストボックスにデータを入力する（class指定）入力後にEnterを押す\n",
    "def move_textbox_by_class(driver, name, value):\n",
    "    return input_textbox_and_post(driver, name, value, SelectorType.Class)\n",
    "\n",
    "# 特定のテキストボックスにデータを入力する（class指定）入力後にEnterを押す\n",
    "def move_textbox_by_id(driver, Id, value):\n",
    "    driver.find_element_by_id(Id).click()\n",
    "    return input_textbox_and_post(driver, Id, value, SelectorType.Id)\n",
    "\n",
    "def input_textbox_and_post(driver, name, value, selector_type):\n",
    "    start = time.time()\n",
    "    if selector_type == SelectorType.Id:\n",
    "        driver.find_element_by_id(name).clear()\n",
    "        time.sleep(1)        \n",
    "        driver.find_element_by_id(name).send_keys(value)\n",
    "        time.sleep(1)\n",
    "        driver.find_element_by_id(name).send_keys(Keys.ENTER)\n",
    "\n",
    "        if time.time()-start > 5 :\n",
    "            return False\n",
    "    elif selector_type == SelectorType.Class:\n",
    "        while driver.find_element_by_class_name(name).get_attribute('value')!=value:\n",
    "            driver.find_element_by_class_name(name).clear()\n",
    "            time.sleep(1)        \n",
    "            driver.find_element_by_class_name(name).send_keys(value)\n",
    "            time.sleep(1)\n",
    "            driver.find_element_by_class_name(name).send_keys(Keys.ENTER)\n",
    "\n",
    "            if time.time()-start > 5 :\n",
    "                return False\n",
    "    elif selector_type == SelectorType.Name:\n",
    "        while driver.find_element_by_name(name).get_attribute('value')!=value:\n",
    "            driver.find_element_by_name(name).clear()\n",
    "            time.sleep(1)        \n",
    "            driver.find_element_by_name(name).send_keys(value)\n",
    "            time.sleep(1)\n",
    "            driver.find_element_by_name(name).send_keys(Keys.ENTER)\n",
    "\n",
    "            if time.time()-start > 5 :\n",
    "                return False\n",
    "    return True   \n",
    "        \n",
    "\n",
    "# 検索ボックスに文字を入力して、表示された画面そスクショした後に特定のファイル名で保存する\n",
    "def screen_search_result(driver, searchtext, filename, is_bing):\n",
    "    if is_bing:\n",
    "        move_textbox_by_class(driver, 'b_searchbox', searchtext)\n",
    "    else:\n",
    "        move_textbox_by_id(driver, 'ms-searchux-input-3', searchtext)\n",
    "    \n",
    "    # get width and height of the page\n",
    "    w = driver.execute_script(\"return document.body.scrollWidth;\")\n",
    "    h = driver.execute_script(\"return document.body.scrollHeight;\")\n",
    "\n",
    "    # set window size\n",
    "    driver.set_window_size(w,h)\n",
    "\n",
    "    # Get Screen Shot\n",
    "    driver.save_screenshot(filename)"
   ]
  },
  {
   "cell_type": "code",
   "execution_count": null,
   "id": "7b8e572d-a876-40ab-845d-818e95259f01",
   "metadata": {},
   "outputs": [],
   "source": [
    "# 検証に使うブラウザを表示して、検証用アカウントにサインインする\n",
    "def init_browser():\n",
    "    driver_bing = webdriver.Chrome(executable_path=\"./drivers/chromedriver\")\n",
    "    driver_o365 = webdriver.Chrome(executable_path=\"./drivers/chromedriver\")\n",
    "    \n",
    "    # スクショしたいページに移動\n",
    "    driver_o365.get(\"https://www.office.com/?auth=2\")\n",
    "    driver_bing.get(\"https://www.bing.com/work/\")\n",
    "    \n",
    "    time.sleep(1)\n",
    "    \n",
    "    # ADアカウントにサインイン\n",
    "    move_textbox_by_name(driver_o365, \"loginfmt\", 'searchuser02@jbscp.onmicrosoft.com')\n",
    "    move_textbox_by_name(driver_o365, \"passwd\", '*****')\n",
    "\n",
    "    move_textbox_by_name(driver_bing, \"loginfmt\", 'searchuser02@jbscp.onmicrosoft.com')\n",
    "    move_textbox_by_name(driver_bing, \"passwd\", '*****')"
   ]
  },
  {
   "cell_type": "code",
   "execution_count": 24,
   "id": "2609325c-3da9-4310-98ef-5b9059b937b3",
   "metadata": {},
   "outputs": [],
   "source": [
    "# Bingで検索結果をスクショする\n",
    "search_text = '検索テキスト'\n",
    "screen_search_result(driver_bing, search_text, 'images/bing_images/' + search_text + '.png', True)\n",
    "# Office 365で検索結果をスクショする\n",
    "screen_search_result(driver_o365, search_text, 'images/o365_images/' + search_text + '.png', False)"
   ]
  },
  {
   "cell_type": "code",
   "execution_count": null,
   "id": "e34c0ff0-9a15-4e92-8314-938e7fc623ad",
   "metadata": {},
   "outputs": [],
   "source": []
  }
 ],
 "metadata": {
  "kernelspec": {
   "display_name": "Python 3",
   "language": "python",
   "name": "python3"
  },
  "language_info": {
   "codemirror_mode": {
    "name": "ipython",
    "version": 3
   },
   "file_extension": ".py",
   "mimetype": "text/x-python",
   "name": "python",
   "nbconvert_exporter": "python",
   "pygments_lexer": "ipython3",
   "version": "3.9.1"
  }
 },
 "nbformat": 4,
 "nbformat_minor": 5
}